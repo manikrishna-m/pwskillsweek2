{
 "cells": [
  {
   "cell_type": "markdown",
   "id": "e64159ba-f02e-4555-a590-8bd16ad28cbf",
   "metadata": {},
   "source": [
    "## Q1. How do you comment code in Python? What are the different types of comments?"
   ]
  },
  {
   "cell_type": "code",
   "execution_count": 5,
   "id": "df9de243-6330-4793-8550-7e0dbb6c86af",
   "metadata": {},
   "outputs": [
    {
     "name": "stdout",
     "output_type": "stream",
     "text": [
      "Single Line Comment\n",
      "Multiple Line Comment\n"
     ]
    }
   ],
   "source": [
    "# Single Line Comment\n",
    "print(\"Single Line Comment\")\n",
    "\n",
    "'''\n",
    "Multiple Line Comment\n",
    "'''\n",
    "print(\"Multiple Line Comment\")"
   ]
  },
  {
   "cell_type": "markdown",
   "id": "01c3c8bc-ce18-4a23-98ee-1dd0a0ae6713",
   "metadata": {},
   "source": [
    "## Q2. What are variables in Python? How do you declare and assign values to variables?"
   ]
  },
  {
   "cell_type": "markdown",
   "id": "97ab6841-08d1-47f5-9646-5c3897bd7817",
   "metadata": {},
   "source": [
    "Variables are used to store the data.Equal to assigment is used for assigning the values. The declartion and assignment of the values to variables is defined as follows:"
   ]
  },
  {
   "cell_type": "code",
   "execution_count": 7,
   "id": "024b6c4f-beb7-42b3-b7af-3f0c2c062d60",
   "metadata": {},
   "outputs": [
    {
     "name": "stdout",
     "output_type": "stream",
     "text": [
      "10\n"
     ]
    }
   ],
   "source": [
    "a = 10\n",
    "print(a)"
   ]
  },
  {
   "cell_type": "markdown",
   "id": "d0a19714-749d-486e-add0-8b0eafc3cf08",
   "metadata": {},
   "source": [
    "## Q3. How do you convert one data type to another in Python?"
   ]
  },
  {
   "cell_type": "markdown",
   "id": "4fa9d979-20e2-4fac-9a6d-607ea31c2b10",
   "metadata": {},
   "source": [
    "In python,built-in functions are used to convert from one datatype to another.\n",
    "\n",
    "int() function is used for int conversion"
   ]
  },
  {
   "cell_type": "markdown",
   "id": "dfcca97e-2e5b-491c-b5cb-171e47f63682",
   "metadata": {},
   "source": [
    "## Q4. How do you write and execute a Python script from the command line?"
   ]
  },
  {
   "cell_type": "markdown",
   "id": "e855233c-63e1-4735-9927-da47da60126b",
   "metadata": {},
   "source": [
    "Please save the file name with .py extension. In command line, please execute with the command python file_name.py"
   ]
  },
  {
   "cell_type": "markdown",
   "id": "6ce1cd88-bafb-41cb-9a4f-6f9f76490596",
   "metadata": {},
   "source": [
    "## Q5. Given a list my_list = [1, 2, 3, 4, 5], write the code to slice the list and obtain the sub-list [2, 3]."
   ]
  },
  {
   "cell_type": "code",
   "execution_count": 10,
   "id": "c3f53f02-8c1e-47f4-9385-776a3346b921",
   "metadata": {},
   "outputs": [
    {
     "name": "stdout",
     "output_type": "stream",
     "text": [
      "[2, 3]\n"
     ]
    }
   ],
   "source": [
    "my_list = [1, 2, 3, 4, 5]\n",
    "print(my_list[1:3])"
   ]
  },
  {
   "cell_type": "markdown",
   "id": "c19e9c98-5cc7-403e-bdaa-55d7e65ecf36",
   "metadata": {},
   "source": [
    "## Q6. What is a complex number in mathematics, and how is it represented in Python?"
   ]
  },
  {
   "cell_type": "markdown",
   "id": "60dd8351-f7b0-457f-946d-46d876d57693",
   "metadata": {},
   "source": [
    "In mathematics, complex number consists of real and imaginary part. In python, complex number is defined as follows 2+3j, 2 is real part amd 3 is imaginary part with j"
   ]
  },
  {
   "cell_type": "markdown",
   "id": "b80ab348-55cd-40e3-9eab-7273d443cba3",
   "metadata": {},
   "source": [
    "## Q7. What is the correct way to declare a variable named age and assign the value 25 to it?"
   ]
  },
  {
   "cell_type": "code",
   "execution_count": 12,
   "id": "b963524c-0507-455c-9c68-c4e3c7e1938d",
   "metadata": {},
   "outputs": [
    {
     "name": "stdout",
     "output_type": "stream",
     "text": [
      "25\n"
     ]
    }
   ],
   "source": [
    "age = 25\n",
    "print(age)"
   ]
  },
  {
   "cell_type": "markdown",
   "id": "228120c6-36f3-4f8e-8481-15eb11b29bc8",
   "metadata": {},
   "source": [
    "## Q8. Declare a variable named price and assign the value 9.99 to it. What data type does this variable belong to?"
   ]
  },
  {
   "cell_type": "code",
   "execution_count": 13,
   "id": "e0f6f071-41bc-432f-8576-ae79575feb44",
   "metadata": {},
   "outputs": [
    {
     "name": "stdout",
     "output_type": "stream",
     "text": [
      "<class 'float'>\n"
     ]
    }
   ],
   "source": [
    "price = 9.99 \n",
    "\n",
    "# It belongs to float\n",
    "print(type(price))"
   ]
  },
  {
   "cell_type": "markdown",
   "id": "fe3ff002-b31c-4eeb-a84e-bcd5b1c0e48f",
   "metadata": {},
   "source": [
    "## Q9. Create a variable named name and assign your full name to it as a string. How would you print the value of this variable?"
   ]
  },
  {
   "cell_type": "code",
   "execution_count": 14,
   "id": "d94d6a98-dea7-4c22-8e31-4916c39098e8",
   "metadata": {},
   "outputs": [
    {
     "name": "stdout",
     "output_type": "stream",
     "text": [
      "Mani Krishna Mandepudi\n"
     ]
    }
   ],
   "source": [
    "name = \"Mani Krishna Mandepudi\"\n",
    "print(name)"
   ]
  },
  {
   "cell_type": "markdown",
   "id": "327498ad-3a34-4d4f-88fa-8bdeb220a105",
   "metadata": {},
   "source": [
    "## Q10. Given the string \"Hello, World!\", extract the substring \"World\"."
   ]
  },
  {
   "cell_type": "code",
   "execution_count": 21,
   "id": "47cba19f-e9c7-4c04-9680-b8b8b0d2fa42",
   "metadata": {},
   "outputs": [
    {
     "name": "stdout",
     "output_type": "stream",
     "text": [
      "World\n"
     ]
    }
   ],
   "source": [
    "s = \"Hello, World!\"\n",
    "\n",
    "print(s[7:-1])"
   ]
  },
  {
   "cell_type": "markdown",
   "id": "6596387e-76ea-4e5e-8826-7e3d1c3f9eb8",
   "metadata": {},
   "source": [
    "## Q11. Create a variable named \"is_student\" and assign it a boolean value indicating whether you arecurrently a student or not."
   ]
  },
  {
   "cell_type": "code",
   "execution_count": 15,
   "id": "eafebd60-443f-4e44-b1fa-236d20acaefb",
   "metadata": {},
   "outputs": [
    {
     "name": "stdout",
     "output_type": "stream",
     "text": [
      "True\n"
     ]
    }
   ],
   "source": [
    "is_student = True\n",
    "print(is_student)"
   ]
  }
 ],
 "metadata": {
  "kernelspec": {
   "display_name": "Python 3 (ipykernel)",
   "language": "python",
   "name": "python3"
  },
  "language_info": {
   "codemirror_mode": {
    "name": "ipython",
    "version": 3
   },
   "file_extension": ".py",
   "mimetype": "text/x-python",
   "name": "python",
   "nbconvert_exporter": "python",
   "pygments_lexer": "ipython3",
   "version": "3.9.12"
  }
 },
 "nbformat": 4,
 "nbformat_minor": 5
}
